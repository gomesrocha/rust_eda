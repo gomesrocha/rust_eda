{
 "cells": [
  {
   "cell_type": "markdown",
   "metadata": {},
   "source": [
    "# Task 0: Visualize our parquet data frames."
   ]
  },
  {
   "cell_type": "code",
   "execution_count": null,
   "metadata": {},
   "outputs": [],
   "source": [
    "import pandas as pd\n",
    "from matplotlib import pyplot as plt\n",
    "import seaborn as sns "
   ]
  },
  {
   "cell_type": "code",
   "execution_count": null,
   "metadata": {},
   "outputs": [],
   "source": [
    "df1 = pd.read_parquet('GlobalLandTemperaturesByState.parquet')\n",
    "df2 = pd.read_parquet('GlobalLandTemperaturesByCountry.parquet')\n",
    "df3 = pd.read_parquet('GlobalTemperatures.parquet')"
   ]
  },
  {
   "cell_type": "code",
   "execution_count": null,
   "metadata": {},
   "outputs": [],
   "source": [
    "df1"
   ]
  },
  {
   "cell_type": "code",
   "execution_count": null,
   "metadata": {},
   "outputs": [],
   "source": [
    "df2"
   ]
  },
  {
   "cell_type": "code",
   "execution_count": null,
   "metadata": {},
   "outputs": [],
   "source": [
    "df3"
   ]
  },
  {
   "cell_type": "markdown",
   "metadata": {},
   "source": [
    "# Task 5: Visualize our data distribution between different countries."
   ]
  },
  {
   "cell_type": "code",
   "execution_count": null,
   "metadata": {},
   "outputs": [],
   "source": [
    "df4 = pd.read_parquet('Acre.parquet')"
   ]
  },
  {
   "cell_type": "code",
   "execution_count": null,
   "metadata": {},
   "outputs": [],
   "source": [
    "df4"
   ]
  },
  {
   "cell_type": "code",
   "execution_count": null,
   "metadata": {},
   "outputs": [],
   "source": [
    "city_df = pd.read_parquet('state_cnt.parquet')\n",
    "country_df = pd.read_parquet('country_cnt.parquet')"
   ]
  },
  {
   "cell_type": "code",
   "execution_count": null,
   "metadata": {},
   "outputs": [],
   "source": [
    "city_df"
   ]
  },
  {
   "cell_type": "code",
   "execution_count": null,
   "metadata": {},
   "outputs": [],
   "source": [
    "country_df"
   ]
  },
  {
   "cell_type": "code",
   "execution_count": null,
   "metadata": {},
   "outputs": [],
   "source": [
    "country_df.groupby('Country').size().plot(kind='barh', color=sns.palettes.mpl_palette('Dark2'))\n",
    "plt.gca().spines[['top', 'right',]].set_visible(False)"
   ]
  },
  {
   "cell_type": "markdown",
   "metadata": {},
   "source": [
    "# Task 7: Visualize the result after handle Handle null or NaN value."
   ]
  },
  {
   "cell_type": "code",
   "execution_count": null,
   "metadata": {},
   "outputs": [],
   "source": [
    "def distribution_plot(df,col):\n",
    "    figsize = (12, 1.2 * len(df['Country'].unique()))\n",
    "    plt.figure(figsize=figsize)\n",
    "    sns.violinplot(df, x=col, y='Country', inner='box', palette='Dark2')\n",
    "    sns.despine(top=True, right=True, bottom=True, left=True)\n",
    "    \n",
    "def _plot_series(series, series_name, col1, col2, series_index=0):\n",
    "    palette = list(sns.palettes.mpl_palette('Dark2'))\n",
    "    xs = series[col1]\n",
    "    ys = series[col2]\n",
    "    plt.plot(xs, ys, label=series_name, color=palette[series_index % len(palette)])\n",
    "\n",
    "def time_series(df, col1, col2):\n",
    "    fig, ax = plt.subplots(figsize=(10, 5.2), layout='constrained')\n",
    "    df_sorted = df.sort_values(col1, ascending=True)\n",
    "    _plot_series(df_sorted, '', col1, col2)\n",
    "    sns.despine(fig=fig, ax=ax)\n",
    "    plt.xlabel(col1)\n",
    "    _ = plt.ylabel(col2)\n",
    "\n",
    "def missing_cnt(df):\n",
    "    nan_cnt = df.isnull().sum().sum()\n",
    "    print('Number of NaN values:', nan_cnt)\n",
    "\n",
    "def country_weather(df):\n",
    "  fig, ax = plt.subplots(figsize=(10, 5.2), layout='constrained')\n",
    "  df_sorted = df.sort_values('dt', ascending=True)\n",
    "  for i, (series_name, series) in enumerate(df_sorted.groupby('Country')):\n",
    "    _plot_series(series, series_name,'dt','AverageTemperatureUncertainty', i)\n",
    "    fig.legend(title='Country', bbox_to_anchor=(1, 1), loc='upper left')\n",
    "  sns.despine(fig=fig, ax=ax)\n",
    "  plt.xlabel('dt')\n",
    "  _ = plt.ylabel('AverageTemperatureUncertainty')"
   ]
  },
  {
   "cell_type": "code",
   "execution_count": null,
   "metadata": {},
   "outputs": [],
   "source": [
    "df5 = pd.read_parquet('missing_cnt.parquet')\n",
    "df6 = pd.read_parquet('forward_fill.parquet')"
   ]
  },
  {
   "cell_type": "code",
   "execution_count": null,
   "metadata": {},
   "outputs": [],
   "source": [
    "missing_cnt(df1)"
   ]
  },
  {
   "cell_type": "code",
   "execution_count": null,
   "metadata": {},
   "outputs": [],
   "source": [
    "missing_cnt(df5)"
   ]
  },
  {
   "cell_type": "code",
   "execution_count": null,
   "metadata": {},
   "outputs": [],
   "source": [
    "missing_cnt(df6)"
   ]
  },
  {
   "cell_type": "code",
   "execution_count": null,
   "metadata": {},
   "outputs": [],
   "source": [
    "distribution_plot(df5, 'AverageTemperature')"
   ]
  },
  {
   "cell_type": "code",
   "execution_count": null,
   "metadata": {},
   "outputs": [],
   "source": [
    "distribution_plot(df6, 'AverageTemperature')"
   ]
  },
  {
   "cell_type": "code",
   "execution_count": null,
   "metadata": {},
   "outputs": [],
   "source": [
    "distribution_plot(df5, 'AverageTemperatureUncertainty')"
   ]
  },
  {
   "cell_type": "code",
   "execution_count": null,
   "metadata": {},
   "outputs": [],
   "source": [
    "distribution_plot(df6, 'AverageTemperatureUncertainty')"
   ]
  },
  {
   "cell_type": "code",
   "execution_count": null,
   "metadata": {},
   "outputs": [],
   "source": [
    "country_weather(df5)"
   ]
  },
  {
   "cell_type": "code",
   "execution_count": null,
   "metadata": {},
   "outputs": [],
   "source": [
    "country_weather(df6)"
   ]
  },
  {
   "cell_type": "code",
   "execution_count": null,
   "metadata": {},
   "outputs": [],
   "source": [
    "time_series(df5,'dt', 'AverageTemperatureUncertainty')"
   ]
  },
  {
   "cell_type": "code",
   "execution_count": null,
   "metadata": {},
   "outputs": [],
   "source": [
    "time_series(df6,'dt', 'AverageTemperatureUncertainty')"
   ]
  },
  {
   "cell_type": "code",
   "execution_count": null,
   "metadata": {},
   "outputs": [],
   "source": [
    "time_series(df2,'dt', 'AverageTemperatureUncertainty')"
   ]
  },
  {
   "cell_type": "code",
   "execution_count": null,
   "metadata": {},
   "outputs": [],
   "source": [
    "time_series(df3,'dt', 'LandAverageTemperatureUncertainty')"
   ]
  },
  {
   "cell_type": "markdown",
   "metadata": {},
   "source": [
    "You can continue clean GlobalLandTemperaturesByCountry.csv and GlobalTemperatures.csv in our Rust app then check and visualize the result parquet files from above functions."
   ]
  }
 ],
 "metadata": {
  "kernelspec": {
   "display_name": "Python 3 (ipykernel)",
   "language": "python",
   "name": "python3"
  },
  "language_info": {
   "codemirror_mode": {
    "name": "ipython",
    "version": 3
   },
   "file_extension": ".py",
   "mimetype": "text/x-python",
   "name": "python",
   "nbconvert_exporter": "python",
   "pygments_lexer": "ipython3",
   "version": "3.8.10"
  },
  "vscode": {
   "interpreter": {
    "hash": "916dbcbb3f70747c44a77c7bcd40155683ae19c65e1c03b4aa3499c5328201f1"
   }
  }
 },
 "nbformat": 4,
 "nbformat_minor": 4
}
